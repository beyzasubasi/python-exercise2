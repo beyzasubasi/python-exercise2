{
 "cells": [
  {
   "cell_type": "markdown",
   "metadata": {},
   "source": [
    "# Dosyalarda Değişiklik Yapmak\n",
    "Bu derste dosyalarda değişiklik yapmayı öğrenmeye çalışacağız. Bunun için 2 farklı yolu öğrenmeye çalışacağız.\n",
    "\n",
    "* seek() ve write()\n",
    "\n",
    "Eğer biz bir dosyanın belli bir yerine seek() fonksiyonu ile gidip, write() fonksiyonunu kullanırsak, yazdığımız değerler öncesinde bulunan değerlerin üzerine yazılacaktır. \n",
    "\n",
    "Bunun için hem okuma hem de yazma işlemimizi yapmamızı sağlayan \"r+\" kipini kullanacağız."
   ]
  },
  {
   "cell_type": "code",
   "execution_count": 1,
   "metadata": {},
   "outputs": [
    {
     "ename": "FileNotFoundError",
     "evalue": "[Errno 2] No such file or directory: 'C:/Users/beyza/Desktop/UDEMY-PYTHON/DOSYA İŞLEMLERİ/bilgiler3.txt'",
     "output_type": "error",
     "traceback": [
      "\u001b[1;31m---------------------------------------------------------------------------\u001b[0m",
      "\u001b[1;31mFileNotFoundError\u001b[0m                         Traceback (most recent call last)",
      "\u001b[1;32m<ipython-input-1-c873eb4dd390>\u001b[0m in \u001b[0;36m<module>\u001b[1;34m\u001b[0m\n\u001b[1;32m----> 1\u001b[1;33m \u001b[0mfile\u001b[0m \u001b[1;33m=\u001b[0m \u001b[0mopen\u001b[0m\u001b[1;33m(\u001b[0m\u001b[1;34m\"C:/Users/beyza/Desktop/UDEMY-PYTHON/DOSYA İŞLEMLERİ/bilgiler3.txt\"\u001b[0m\u001b[1;33m,\u001b[0m\u001b[1;34m\"w\"\u001b[0m\u001b[1;33m)\u001b[0m\u001b[1;33m\u001b[0m\u001b[1;33m\u001b[0m\u001b[0m\n\u001b[0m",
      "\u001b[1;31mFileNotFoundError\u001b[0m: [Errno 2] No such file or directory: 'C:/Users/beyza/Desktop/UDEMY-PYTHON/DOSYA İŞLEMLERİ/bilgiler3.txt'"
     ]
    }
   ],
   "source": [
    "file = open(\"C:/Users/beyza/Desktop/UDEMY-PYTHON/DOSYA İŞLEMLERİ/bilgiler3.txt\",\"w\")"
   ]
  },
  {
   "cell_type": "code",
   "execution_count": 2,
   "metadata": {},
   "outputs": [
    {
     "name": "stdout",
     "output_type": "stream",
     "text": [
      "BEYZA SUBAŞI\n",
      "SENA SEZER\n",
      "DOĞU KURT\n",
      "ELA SEKİN\n",
      "MERT YILMAZ\n",
      "ALİ MERT\n",
      "EDA TAKIR\n",
      "MELİH BAKIR\n",
      "\n"
     ]
    }
   ],
   "source": [
    "with open(\"bilgiler3.txt\",\"r+\",encoding = \"utf-8\") as file:\n",
    "    print(file.read())"
   ]
  },
  {
   "cell_type": "code",
   "execution_count": 3,
   "metadata": {},
   "outputs": [],
   "source": [
    "with open(\"bilgiler3.txt\",\"r+\",encoding = \"utf-8\") as file: \n",
    "    file.seek(10) # 10. byte\n",
    "    file.write(\"Deneme\")   # 10. byte ına yazmış oluyoruz"
   ]
  },
  {
   "cell_type": "code",
   "execution_count": 4,
   "metadata": {},
   "outputs": [
    {
     "name": "stdout",
     "output_type": "stream",
     "text": [
      "BEYZA SUBADenemeNA SEZER\n",
      "DOĞU KURT\n",
      "ELA SEKİN\n",
      "MERT YILMAZ\n",
      "ALİ MERT\n",
      "EDA TAKIR\n",
      "MELİH BAKIR\n",
      "\n"
     ]
    }
   ],
   "source": [
    "with open(\"bilgiler3.txt\",\"r+\",encoding = \"utf-8\") as file:\n",
    "    print(file.read())\n"
   ]
  },
  {
   "cell_type": "markdown",
   "metadata": {},
   "source": [
    "* Dosyanın Sonunda Değişiklik Yapmak\n",
    "\n",
    "Bu işlemlerin en kolayıyla başlayalım. Dosyaların sonunda değişiklik yapmak için, dosyamızı \"a\" kipiyle açalım ve sadece dosyanın sonuna write() ile ekleme yapalım."
   ]
  },
  {
   "cell_type": "code",
   "execution_count": 5,
   "metadata": {},
   "outputs": [],
   "source": [
    "with open(\"bilgiler3.txt\",\"a\",encoding = \"utf-8\") as file:\n",
    "    file.write(\"MELİHA ARIK\\n\") # \"append\" metoduyla açılan bir dosyanın imleci direk dosyanın sonunda olduğu için sadece write"
   ]
  },
  {
   "cell_type": "code",
   "execution_count": 6,
   "metadata": {},
   "outputs": [
    {
     "name": "stdout",
     "output_type": "stream",
     "text": [
      "BEYZA SUBADenemeNA SEZER\n",
      "DOĞU KURT\n",
      "ELA SEKİN\n",
      "MERT YILMAZ\n",
      "ALİ MERT\n",
      "EDA TAKIR\n",
      "MELİH BAKIR\n",
      "MELİHA ARIK\n",
      "\n"
     ]
    }
   ],
   "source": [
    "with open(\"bilgiler3.txt\",\"r\",encoding = \"utf-8\") as file:\n",
    "    print(file.read())"
   ]
  },
  {
   "cell_type": "markdown",
   "metadata": {},
   "source": [
    "# Dosyanın Başında Değişiklik Yapmak\n",
    "\n",
    "\"bilgiler.txt\" dosyamızın başına bir tane satır eklemek için ne yapabiliriz ? \n",
    "\n",
    "Bunun için dosyamızı bütünüyle string halinde alıp daha sonra satırımızı string'in başına eklememiz gerekiyor. \n",
    "\n",
    "Daha sonra dosyanın en başına seek() fonksiyonuyla giderek ,direk write() fonksiyonunu kullanabiliriz. "
   ]
  },
  {
   "cell_type": "code",
   "execution_count": 7,
   "metadata": {},
   "outputs": [
    {
     "name": "stdout",
     "output_type": "stream",
     "text": [
      "BEYZA SUBADenemeNA SEZER\n",
      "DOĞU KURT\n",
      "ELA SEKİN\n",
      "MERT YILMAZ\n",
      "ALİ MERT\n",
      "EDA TAKIR\n",
      "MELİH BAKIR\n",
      "MELİHA ARIK\n",
      "\n"
     ]
    }
   ],
   "source": [
    "with open(\"bilgiler3.txt\",\"r+\",encoding = \"utf-8\") as file:\n",
    "    icerik = file.read()\n",
    "    print(icerik)\n",
    "    "
   ]
  },
  {
   "cell_type": "code",
   "execution_count": 8,
   "metadata": {},
   "outputs": [],
   "source": [
    "with open(\"bilgiler3.txt\",\"r+\",encoding = \"utf-8\") as file:\n",
    "    icerik = file.read()\n",
    "    \n",
    "    icerik = \"HATİCE HAMAL\\n\" + icerik\n",
    "    file.seek(0)\n",
    "    file.write(icerik)"
   ]
  },
  {
   "cell_type": "code",
   "execution_count": 9,
   "metadata": {},
   "outputs": [
    {
     "name": "stdout",
     "output_type": "stream",
     "text": [
      "HATİCE HAMAL\n",
      "BEYZA SUBADenemeNA SEZER\n",
      "DOĞU KURT\n",
      "ELA SEKİN\n",
      "MERT YILMAZ\n",
      "ALİ MERT\n",
      "EDA TAKIR\n",
      "MELİH BAKIR\n",
      "MELİHA ARIK\n",
      "\n"
     ]
    }
   ],
   "source": [
    "with open(\"bilgiler3.txt\",\"r+\",encoding = \"utf-8\") as file:\n",
    "    icerik = file.read()\n",
    "    print(icerik)"
   ]
  },
  {
   "cell_type": "markdown",
   "metadata": {},
   "source": [
    "* Dosyanın Ortasında Değişiklik Yapmak\n",
    "\n",
    "Dosyaların ortasına herhangi bir satır eklemek için ilk olarak her bir satırı liste halinde almamızı sağlayan readlines() fonksiyonunu kullanacağız. Daha sonra bu listenin herhangi bir yerine bir eleman ekleyerek bu listeyi for döngüsü ile dosyaya yazacağız."
   ]
  },
  {
   "cell_type": "code",
   "execution_count": 10,
   "metadata": {},
   "outputs": [
    {
     "name": "stdout",
     "output_type": "stream",
     "text": [
      "['HATİCE HAMAL\\n', 'BEYZA SUBADenemeNA SEZER\\n', 'DOĞU KURT\\n', 'ELA SEKİN\\n', 'MERT YILMAZ\\n', 'ALİ MERT\\n', 'EDA TAKIR\\n', 'MELİH BAKIR\\n', 'MELİHA ARIK\\n']\n"
     ]
    }
   ],
   "source": [
    "with open(\"bilgiler3.txt\",\"r+\",encoding = \"utf-8\") as file:\n",
    "    print(file.readlines())"
   ]
  },
  {
   "cell_type": "markdown",
   "metadata": {},
   "source": [
    "Örneğin , \"Oğuz Artıran\" satırının altına bir tane daha satır eklemek istiyoruz. Bunun için bu listenin 3.indeksine insert() metoduyla bir satır ekleyeceğiz. Daha sonra dosyanın en başına giderek bu listeyi tek tek for döngüsü ile yazacağız."
   ]
  },
  {
   "cell_type": "code",
   "execution_count": 11,
   "metadata": {},
   "outputs": [],
   "source": [
    "with open(\"bilgiler3.txt\",\"r+\",encoding = \"utf-8\") as file:\n",
    "    liste = file.readlines()\n",
    "    liste.insert(3,\"HİLAL ÖZKADİR\\n\")\n",
    "    file.seek(0)\n",
    "    for satır in liste:\n",
    "        file.write(satır)"
   ]
  },
  {
   "cell_type": "code",
   "execution_count": 12,
   "metadata": {},
   "outputs": [
    {
     "name": "stdout",
     "output_type": "stream",
     "text": [
      "HATİCE HAMAL\n",
      "BEYZA SUBADenemeNA SEZER\n",
      "DOĞU KURT\n",
      "HİLAL ÖZKADİR\n",
      "ELA SEKİN\n",
      "MERT YILMAZ\n",
      "ALİ MERT\n",
      "EDA TAKIR\n",
      "MELİH BAKIR\n",
      "MELİHA ARIK\n",
      "\n"
     ]
    }
   ],
   "source": [
    "with open(\"bilgiler3.txt\",\"r+\",encoding = \"utf-8\") as file:\n",
    "    icerik = file.read()\n",
    "    print(icerik)"
   ]
  },
  {
   "cell_type": "markdown",
   "metadata": {},
   "source": [
    "Pythonda bir dosyaya listenin içindeki değerleri yazmak için for döngüsü dışında pratik bir fonksiyon bulunuyor. writelines fonksiyonu içine verdiğimiz listeyi dosyaya yazacaktır."
   ]
  },
  {
   "cell_type": "code",
   "execution_count": 13,
   "metadata": {},
   "outputs": [],
   "source": [
    "with open(\"bilgiler3.txt\",\"r+\",encoding = \"utf-8\") as file:\n",
    "    liste = file.readlines()\n",
    "    liste.insert(3,\"CEVRİYE SÜTOĞLU\\n\")\n",
    "    file.seek(0)\n",
    "    file.writelines(liste)"
   ]
  },
  {
   "cell_type": "code",
   "execution_count": 14,
   "metadata": {},
   "outputs": [
    {
     "name": "stdout",
     "output_type": "stream",
     "text": [
      "HATİCE HAMAL\n",
      "BEYZA SUBADenemeNA SEZER\n",
      "DOĞU KURT\n",
      "CEVRİYE SÜTOĞLU\n",
      "HİLAL ÖZKADİR\n",
      "ELA SEKİN\n",
      "MERT YILMAZ\n",
      "ALİ MERT\n",
      "EDA TAKIR\n",
      "MELİH BAKIR\n",
      "MELİHA ARIK\n",
      "\n"
     ]
    }
   ],
   "source": [
    "with open(\"bilgiler3.txt\",\"r+\",encoding = \"utf-8\") as file:\n",
    "    icerik = file.read()\n",
    "    print(icerik)"
   ]
  },
  {
   "cell_type": "code",
   "execution_count": null,
   "metadata": {},
   "outputs": [],
   "source": []
  },
  {
   "cell_type": "code",
   "execution_count": null,
   "metadata": {},
   "outputs": [],
   "source": []
  },
  {
   "cell_type": "code",
   "execution_count": null,
   "metadata": {},
   "outputs": [],
   "source": []
  }
 ],
 "metadata": {
  "kernelspec": {
   "display_name": "Python 3",
   "language": "python",
   "name": "python3"
  },
  "language_info": {
   "codemirror_mode": {
    "name": "ipython",
    "version": 3
   },
   "file_extension": ".py",
   "mimetype": "text/x-python",
   "name": "python",
   "nbconvert_exporter": "python",
   "pygments_lexer": "ipython3",
   "version": "3.7.6"
  }
 },
 "nbformat": 4,
 "nbformat_minor": 4
}
